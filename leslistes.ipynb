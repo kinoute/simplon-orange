{
 "cells": [
  {
   "cell_type": "markdown",
   "metadata": {},
   "source": [
    "# les listes\n",
    "\n",
    "## Définition\n",
    "\n",
    "Ensemble d'élements ordonnées par un Index qui va de 0 à la taille de liste.\n",
    "La liste est mutable c'est à dire que chacun des élements peuvent être changés.\n",
    "\n",
    "La liste peut contenir des chiffres des chaines de caractères des booléens, des listes, des dictionnaire, des fonctions, des tupples...."
   ]
  },
  {
   "cell_type": "code",
   "execution_count": null,
   "metadata": {},
   "outputs": [],
   "source": [
    "l=[l1,.....ln]"
   ]
  },
  {
   "cell_type": "markdown",
   "metadata": {},
   "source": [
    "\n",
    "## Déclaration\n",
    "\n",
    "La liste se déclare avec des [] si on veut une liste vide.\n",
    "Chaque élement de la liste est séparé par des virgules.\n",
    "\n",
    "La liste peut être déclaré en utilisant une liste de compréhension \n",
    "\n",
    "\n",
    "\n",
    "\n"
   ]
  },
  {
   "cell_type": "code",
   "execution_count": 4,
   "metadata": {
    "scrolled": true
   },
   "outputs": [
    {
     "name": "stdout",
     "output_type": "stream",
     "text": [
      "[2, 3, 4, 5, 6]\n"
     ]
    }
   ],
   "source": [
    "l = [1, 2, 3, 4, 5]\n",
    "l1= [num+1 for num in l]\n",
    "print(l1)"
   ]
  },
  {
   "cell_type": "markdown",
   "metadata": {},
   "source": [
    "Elle peut être aussi déclaré en utilisant le type constructeur list() ou list(iterable)\n",
    "(ex range)\n",
    "\n",
    "\n"
   ]
  },
  {
   "cell_type": "markdown",
   "metadata": {},
   "source": [
    "\n",
    "## Récupération d'un élement de la liste:\n",
    "\n",
    "On peut récupérer un ou plusieurs élement de la liste grâce à leurs index.\n",
    "**Dans une liste le premier élement est un index 0**\n",
    "\n",
    "\n",
    "\n",
    "\n",
    "\n",
    "\n"
   ]
  },
  {
   "cell_type": "code",
   "execution_count": 5,
   "metadata": {},
   "outputs": [
    {
     "name": "stdout",
     "output_type": "stream",
     "text": [
      "1\n"
     ]
    }
   ],
   "source": [
    "l = [ 1, 2, 3, 4]\n",
    "print (l[0])"
   ]
  },
  {
   "cell_type": "markdown",
   "metadata": {},
   "source": [
    "Dans le cas d'une liste de liste "
   ]
  },
  {
   "cell_type": "code",
   "execution_count": 7,
   "metadata": {},
   "outputs": [
    {
     "name": "stdout",
     "output_type": "stream",
     "text": [
      "d\n"
     ]
    }
   ],
   "source": [
    "l1=[[1, 2, 3, 4], [\"a\",\"b\", \"c\",\"d\"]]\n",
    "print(l1[1][3])"
   ]
  },
  {
   "cell_type": "markdown",
   "metadata": {},
   "source": [
    "Pour récupérer une portion de la liste on utlise le slicing:\n",
    "\n"
   ]
  },
  {
   "cell_type": "code",
   "execution_count": 10,
   "metadata": {},
   "outputs": [
    {
     "name": "stdout",
     "output_type": "stream",
     "text": [
      "[1, 2, 3]\n",
      "[1, 2, 3]\n",
      "[4]\n",
      "[4, 3, 2, 1]\n",
      "[3, 4]\n"
     ]
    }
   ],
   "source": [
    "l = [ 1, 2, 3, 4, 5, 6, 7, _, 9, 10]\n",
    "print(l[0:3]) #récupère de l'index 0 à l'index 3\n",
    "print(l[:3]) #récupère à père du début de la liste à l'index 3\n",
    "print(l[3:]) #récupère de l'index 3 à la fin de la liste\n",
    "print(l[-2:]) #récupère les deux derniers\n",
    "print(l[1, 4, 2]) #récupère de l'index 1 à l'index 4 avec un écart de 2\n",
    "print(l[::-1]) #inverse la liste\n",
    "\n",
    "\n"
   ]
  },
  {
   "cell_type": "markdown",
   "metadata": {},
   "source": [
    "## Les méthodes"
   ]
  },
  {
   "cell_type": "markdown",
   "metadata": {},
   "source": [
    "### append(x) \n",
    "Ajoute l'élément x à la fin de la liste"
   ]
  },
  {
   "cell_type": "markdown",
   "metadata": {},
   "source": [
    "### insert(i, x)\n",
    "Ajoute x à l'index i"
   ]
  },
  {
   "cell_type": "markdown",
   "metadata": {},
   "source": [
    "### extend(l2)\n",
    "Ajoute des élémentsde l2 à la fin de la liste utilisant la méthode"
   ]
  },
  {
   "cell_type": "markdown",
   "metadata": {},
   "source": [
    "### remove(x)\n",
    "va retirer de la liste le premier élément égal à x"
   ]
  },
  {
   "cell_type": "markdown",
   "metadata": {},
   "source": [
    "## pop(i)\n",
    "Retourne la valeur à l'index i et la retire de la liste. Par défaut si i n'est pas précisé, retour et retire le dernier élément de la list."
   ]
  },
  {
   "cell_type": "markdown",
   "metadata": {},
   "source": [
    "### clear()"
   ]
  },
  {
   "cell_type": "markdown",
   "metadata": {},
   "source": [
    "###  index(x, start, end)\n",
    "Retour le premier index de x dans la liste . Start et end optionnels permettent de délimiter une portion de liste"
   ]
  },
  {
   "cell_type": "markdown",
   "metadata": {},
   "source": [
    "### rindex(x, start, end)\n",
    "Retour le dernier index de x dans la liste. Start et end "
   ]
  },
  {
   "cell_type": "markdown",
   "metadata": {},
   "source": [
    "### count(x)"
   ]
  },
  {
   "cell_type": "markdown",
   "metadata": {},
   "source": [
    "### sum()"
   ]
  },
  {
   "cell_type": "markdown",
   "metadata": {},
   "source": [
    "### sort(key=none, reverse=false)"
   ]
  },
  {
   "cell_type": "markdown",
   "metadata": {},
   "source": [
    "### reverse()"
   ]
  },
  {
   "cell_type": "markdown",
   "metadata": {},
   "source": [
    "### copy()"
   ]
  },
  {
   "cell_type": "markdown",
   "metadata": {},
   "source": [
    "### map(function to apply, input)"
   ]
  },
  {
   "cell_type": "markdown",
   "metadata": {},
   "source": [
    "### zip(list1, list2)"
   ]
  },
  {
   "cell_type": "code",
   "execution_count": null,
   "metadata": {},
   "outputs": [],
   "source": []
  }
 ],
 "metadata": {
  "kernelspec": {
   "display_name": "Python 3",
   "language": "python",
   "name": "python3"
  },
  "language_info": {
   "codemirror_mode": {
    "name": "ipython",
    "version": 3
   },
   "file_extension": ".py",
   "mimetype": "text/x-python",
   "name": "python",
   "nbconvert_exporter": "python",
   "pygments_lexer": "ipython3",
   "version": "3.7.1"
  }
 },
 "nbformat": 4,
 "nbformat_minor": 2
}
