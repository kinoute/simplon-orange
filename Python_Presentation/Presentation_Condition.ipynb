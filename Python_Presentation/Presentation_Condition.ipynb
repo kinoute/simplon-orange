{
 "cells": [
  {
   "cell_type": "markdown",
   "metadata": {},
   "source": [
    "# LES CONDITIONS\n",
    "\n",
    "- Concept essentiel en programmation.\n",
    "                                                                                                                               - Permettent d'exécuter des actions en fonction d'une condition ou plusieurs.\n",
    "                                                                                                                              -- Elles peuvent être aussi imbriquées.\n",
    "                                                                                                                               - Si les conditions ne sont pas vraies les actions ne sont pas executées\n",
    "                                                                                                                               \n",
    "## Les booléens\n",
    "\n",
    "- Les booléens possèdent 2 états possibles : Vrai ou Faux (True ou False)\n",
    "\n",
    "- Les conditions sont sous l'emprise des booléens.\n",
    "\n",
    "## IF\n",
    "\n",
    "- Si une condition est remplie éxecute une action\n",
    "\n",
    "- \"Else\" permet d'effectuer une action si aucune condition n'est vérifiée\n",
    "\n",
    "- \"Elif\" permet de rajouter des conditions\n",
    "\n",
    "- Les conditions peuvent être imbriqiuées\n",
    "\n",
    "## SWITCH/CASE\n",
    "\n",
    "- Autre concept d'éxeciuter différentes actions selon les valeurs conditionnelles\n",
    "\n",
    "- Pour éviter les répétitions des conditions dans le bloc if/elif\n",
    "\n",
    "- Permet d'écrire un code plus clair et plus efficace.\n",
    "\n",
    "## WHILE\n",
    "\n",
    "- Une boucle conditionnelle\n",
    "\n",
    "- Exécute un bloc d'instruction tant que la condition est vérifiée\n",
    "\n",
    "- Une manière de stopper la boucle est d'utiliser \"break\"\n",
    "\n",
    "## DOWHILE\n",
    "\n",
    "- Une autre forme de boucle conditionnelle.\n",
    "\n",
    "- L'instruction est au moins éxecutée une fois.\n"
   ]
  },
  {
   "cell_type": "code",
   "execution_count": 7,
   "metadata": {},
   "outputs": [
    {
     "name": "stdout",
     "output_type": "stream",
     "text": [
      "Je sors en maillot de bain\n"
     ]
    }
   ],
   "source": [
    "# La condition IF avec booléen\n",
    "\n",
    "pluie = False\n",
    "\n",
    "if pluie:\n",
    "    print(\"Je prends mon parapluie\")\n",
    "else:\n",
    "    print(\"Je sors en maillot de bain\")"
   ]
  },
  {
   "cell_type": "code",
   "execution_count": 2,
   "metadata": {},
   "outputs": [
    {
     "name": "stdout",
     "output_type": "stream",
     "text": [
      "Je prends mon manteau\n"
     ]
    }
   ],
   "source": [
    "# Autre exemple avec IF et ELIF\n",
    "\n",
    "temps = \"neige\"\n",
    "\n",
    "if temps == \"beau\":\n",
    "    print(\"Je vais à la plage.\")\n",
    "elif temps == \"pluie\":\n",
    "    print(\"Je prends mon parapluie.\")\n",
    "elif temps == \"neige\":\n",
    "    print(\"Je prends mon manteau\")\n",
    "else:\n",
    "    print(\"J'ai pas vu la méteo\")"
   ]
  },
  {
   "cell_type": "code",
   "execution_count": 6,
   "metadata": {
    "scrolled": true
   },
   "outputs": [
    {
     "name": "stdout",
     "output_type": "stream",
     "text": [
      "1 * 7 = 7\n",
      "2 * 7 = 14\n",
      "3 * 7 = 21\n",
      "4 * 7 = 28\n",
      "5 * 7 = 35\n",
      "6 * 7 = 42\n",
      "7 * 7 = 49\n",
      "8 * 7 = 56\n",
      "9 * 7 = 63\n",
      "10 * 7 = 70\n"
     ]
    }
   ],
   "source": [
    "# WHILE\n",
    "nb = 7 # On garde la variable contenant le nombre dont on veut la table de multiplication\n",
    "i = 0 # C'est notre variable compteur que nous allons incrémenter dans la boucle\n",
    "\n",
    "while i < 10: # Tant que i est strictement inférieure à 10\n",
    "    print(i + 1, \"*\", nb, \"=\", (i + 1) * nb)\n",
    "    i += 1 # On incrémente i de 1 à chaque tour de boucle\n"
   ]
  },
  {
   "cell_type": "code",
   "execution_count": null,
   "metadata": {},
   "outputs": [],
   "source": []
  }
 ],
 "metadata": {
  "kernelspec": {
   "display_name": "Python 3",
   "language": "python",
   "name": "python3"
  },
  "language_info": {
   "codemirror_mode": {
    "name": "ipython",
    "version": 3
   },
   "file_extension": ".py",
   "mimetype": "text/x-python",
   "name": "python",
   "nbconvert_exporter": "python",
   "pygments_lexer": "ipython3",
   "version": "3.7.1"
  }
 },
 "nbformat": 4,
 "nbformat_minor": 2
}
